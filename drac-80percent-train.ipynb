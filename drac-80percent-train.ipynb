{
 "cells": [
  {
   "cell_type": "code",
   "execution_count": 1,
   "id": "d3f2ac77",
   "metadata": {},
   "outputs": [],
   "source": [
    "import os\n",
    "from sklearn.model_selection import StratifiedKFold, train_test_split\n",
    "from torch.utils.data import TensorDataset, DataLoader\n",
    "from skimage.io import imread\n",
    "import matplotlib.pyplot as plt\n",
    "import numpy as np\n",
    "from scipy.signal import savgol_filter\n",
    "from albumentations.pytorch import ToTensorV2\n",
    "from six.moves import xrange\n",
    "import random\n",
    "import umap\n",
    "import cv2 as cv\n",
    "import natsort\n",
    "from tqdm import tqdm\n",
    "from prefetch_generator import BackgroundGenerator\n",
    "import utils_test\n",
    "from skimage.transform import resize\n",
    "import torch\n",
    "import torch.nn as nn\n",
    "import torch.nn.functional as F\n",
    "from torch.utils.data import Dataset, DataLoader\n",
    "import torch.optim as optim\n",
    "import read_data\n",
    "\n",
    "import torchvision.datasets as datasets\n",
    "import torchvision.transforms as transforms\n",
    "from torchvision.utils import make_grid\n",
    "import pandas as pd\n",
    "from sklearn.model_selection import StratifiedKFold,ShuffleSplit,KFold\n",
    "import nibabel as nib\n",
    "import pickle\n",
    "import copy\n",
    "# import preprocessing\n",
    "# import utils\n",
    "import nets_LV\n",
    "from collections import namedtuple\n",
    "# from utils import img_extended\n",
    "import albumentations as A\n",
    "from sklearn import metrics\n",
    "import itertools\n",
    "import resample_function as resample\n",
    "import math       \n",
    "\n",
    "from sklearn.metrics import roc_curve, precision_recall_curve, auc,average_precision_score,roc_auc_score\n",
    "from sklearn.preprocessing import label_binarize"
   ]
  },
  {
   "cell_type": "code",
   "execution_count": 2,
   "id": "09607c60",
   "metadata": {},
   "outputs": [],
   "source": [
    "idx_to_label = {0: 'non-DR', 1: 'NPDR', 2: 'PDR'}\n",
    "\n",
    "\n",
    "def getKey(item):\n",
    "    for idx, label in idx_to_label.items():\n",
    "        if label == item:\n",
    "            return idx\n",
    "\n",
    "        \n",
    "\n",
    "def getValue(key):\n",
    "    for idx, label in idx_to_label.items():\n",
    "        if idx == key:\n",
    "            return label\n"
   ]
  },
  {
   "cell_type": "code",
   "execution_count": 3,
   "id": "855ce397",
   "metadata": {},
   "outputs": [],
   "source": [
    "import albumentations as albu\n",
    "\n",
    "def get_training_augmentation():\n",
    "    train_transform = [\n",
    "\n",
    "        albu.HorizontalFlip(p=0.5),\n",
    "\n",
    "#         albu.ShiftScaleRotate(scale_limit=0.5, rotate_limit=(-20,20), shift_limit=0.1, p=1, border_mode=0),\n",
    "\n",
    "\n",
    "        albu.PadIfNeeded(min_height=512, min_width=512, always_apply=True, border_mode=0),\n",
    "        albu.RandomResizedCrop(height=512, width=512, scale=(0.80, 1), always_apply=True),\n",
    "\n",
    "        albu.GaussNoise(p=0.2),\n",
    "        albu.Perspective(p=0.5),\n",
    "\n",
    "\n",
    "        # albu.RandomBrightness(limit=0.4),\n",
    "        # albu.RandomContrast(limit=0.4),\n",
    "\n",
    "\n",
    "        albu.OneOf(\n",
    "            [\n",
    "                albu.CLAHE(p=1),\n",
    "                albu.RandomBrightnessContrast(p=1),\n",
    "                albu.RandomGamma(p=1),\n",
    "            ],\n",
    "            p=0.9,\n",
    "        ),\n",
    "\n",
    "        albu.OneOf(\n",
    "            [\n",
    "#                 albu.IAASharpen(p=1),\n",
    "                albu.Blur(blur_limit=3, p=1),\n",
    "                albu.MotionBlur(blur_limit=3, p=1),\n",
    "            ],\n",
    "            p=0.9,\n",
    "        ),\n",
    "\n",
    "#         albu.OneOf(\n",
    "#             [\n",
    "#                 albu.RandomContrast(p=1),\n",
    "#                 albu.HueSaturationValue(p=1),\n",
    "#             ],\n",
    "#             p=0.9,\n",
    "#         ),\n",
    "    ]\n",
    "    return albu.Compose(train_transform)"
   ]
  },
  {
   "cell_type": "code",
   "execution_count": 4,
   "id": "569c76c4",
   "metadata": {},
   "outputs": [],
   "source": [
    "def get_validation_augmentation():\n",
    "    \"\"\"Add paddings to make image shape divisible by 32\"\"\"\n",
    "    test_transform = [\n",
    "        albu.Resize(512,512)\n",
    "    ]\n",
    "    return albu.Compose(test_transform)\n",
    "\n",
    "\n",
    "def to_tensor(x, **kwargs):\n",
    "    return x.transpose(2, 0, 1).astype('float32')\n"
   ]
  },
  {
   "cell_type": "code",
   "execution_count": 5,
   "id": "cbd6dda1",
   "metadata": {},
   "outputs": [],
   "source": [
    "class anomalyDetectionB5(Dataset):\n",
    "    def __init__(self, images,labels, transform=None):\n",
    "        self.images = images\n",
    "        self.labels = labels\n",
    "        self.transform = transform\n",
    "\n",
    "\n",
    "    def __len__(self):\n",
    "        return self.images.shape[0]\n",
    "\n",
    "    def __getitem__(self, idx):\n",
    "        image = self.images[idx]\n",
    "        image = (image).astype('uint8')\n",
    "        label = self.labels[idx]\n",
    "\n",
    "#         image = image/255\n",
    "        if self.transform is not None:\n",
    "            image = self.transform(image=image)[\"image\"]\n",
    "        return (image/255), label"
   ]
  },
  {
   "cell_type": "code",
   "execution_count": 6,
   "id": "5bf8032a",
   "metadata": {},
   "outputs": [],
   "source": [
    "params = {\n",
    "    \"device\": \"cuda\",\n",
    "    \"lr\": 0.001,\n",
    "    \"batch_size\": 4,\n",
    "    \"num_workers\": 4,\n",
    "    \"epochs\": 200,\n",
    "}\n"
   ]
  },
  {
   "cell_type": "code",
   "execution_count": 7,
   "id": "07f916b6",
   "metadata": {},
   "outputs": [],
   "source": [
    "\n",
    "\n",
    "\n",
    "data =[]\n",
    "label = []\n",
    "filenames = []\n",
    "ctlist=os.listdir('/home/hana/optima/exchange/hjebril/challenge/C. Diabetic Retinopathy Grading/1. Original Images/Training Set_cropped_deleted')\n",
    "ctlist=natsort.natsorted(ctlist)\n",
    "# read labels from the excel file\n",
    "dfs_classification = pd.read_csv('/home/hana/optima/exchange/hjebril/challenge/C. Diabetic Retinopathy Grading/2. Groundtruths/a. DRAC2022_ Diabetic Retinopathy Grading_Training Labels.csv')\n",
    "dfs_quality = pd.read_csv('/home/hana/optima/exchange/hjebril/challenge/B. Image Quality Assessment/2. Groundtruths/a. DRAC2022_ Image Quality Assessment_Training Labels.csv')\n",
    "\n",
    "for idx, filename in enumerate(ctlist):\n",
    "    x_classification = dfs_classification.loc[dfs_classification['image name'] == filename]['DR grade'].values\n",
    "    x_qulity = dfs_quality.loc[dfs_quality['image name'] == filename]['image quality level'].values\n",
    "#     if(x_classification[0] == 0):\n",
    "    if(x_qulity[0] == 2):\n",
    "        image = imread('/home/hana/optima/exchange/hjebril/challenge/C. Diabetic Retinopathy Grading/1. Original Images/Training Set_cropped_deleted/'+filename)\n",
    "#         image = cv.resize(image, (512, 512))\n",
    "        if(image.shape[0]>608):\n",
    "            image = cv.resize(image, (608, 608))\n",
    "        data.append(image)\n",
    "        label.append(x_classification[0])\n",
    "        filenames.append(filename)\n"
   ]
  },
  {
   "cell_type": "code",
   "execution_count": 8,
   "id": "7ca2adc8",
   "metadata": {},
   "outputs": [],
   "source": [
    "data = np.asarray(data)\n",
    "label = np.asarray(label)\n",
    "filenames = np.asarray(filenames)"
   ]
  },
  {
   "cell_type": "code",
   "execution_count": 9,
   "id": "c3e3f2ed",
   "metadata": {},
   "outputs": [],
   "source": [
    "my_whole_seed = 42\n",
    "torch.manual_seed(my_whole_seed)\n",
    "torch.cuda.manual_seed_all(my_whole_seed)\n",
    "torch.cuda.manual_seed(my_whole_seed)\n",
    "np.random.seed(my_whole_seed)\n",
    "random.seed(my_whole_seed)"
   ]
  },
  {
   "cell_type": "code",
   "execution_count": 10,
   "id": "36822541",
   "metadata": {},
   "outputs": [],
   "source": [
    "normal_data= data[np.where(label == 0)[0]]\n",
    "anomolous_data= data[np.where(label != 0)[0]]\n",
    "normal_label = label[np.where(label == 0)[0]]\n",
    "anomolous_label = label[np.where(label != 0)[0]]\n",
    "normal_filenames = filenames[np.where(label == 0)[0]]\n",
    "anomolous_filenames = filenames[np.where(label != 0)[0]]\n",
    "roc_list = []\n",
    "kfold2 = ShuffleSplit(n_splits=7, random_state=0, train_size=0.8)\n",
    "for train_ix, test_ix in kfold2.split(normal_data,normal_label):\n",
    "    # select rows\n",
    "    X_train, X_rem = normal_data[train_ix], normal_data[test_ix]\n",
    "    y_train, y_rem = normal_label[train_ix], normal_label[test_ix]\n",
    "    filenames_train, filenames_rem = normal_filenames[train_ix], normal_filenames[test_ix]\n",
    "    kfold1 = ShuffleSplit(n_splits=6, random_state=0, test_size=0.5)\n",
    "    for valid_ix, test_ix in kfold1.split(X_rem,y_rem):\n",
    "        # select rows\n",
    "        X_valid1, X_test1 = X_rem[valid_ix], X_rem[test_ix]\n",
    "        y_valid1, y_test1 = y_rem[valid_ix], y_rem[test_ix]\n",
    "        filenames_valid1, filenames_test1 = filenames_rem[valid_ix], filenames_rem[test_ix] \n",
    "        kf = StratifiedKFold(n_splits=2, shuffle=True)\n",
    "        for train_idx, test_idx in kf.split(anomolous_data,anomolous_label):\n",
    "            X_test2, X_valid2 = anomolous_data[train_idx], anomolous_data[test_idx]\n",
    "            y_test2, y_valid2 = anomolous_label[train_idx], anomolous_label[test_idx]\n",
    "            filenames_test2, filenames_valid2 = anomolous_filenames[train_idx], anomolous_filenames[test_idx]\n",
    "            X_valid = np.concatenate((X_valid2, X_valid1), axis=0)\n",
    "            X_test = np.concatenate((X_test2, X_test1), axis=0)\n",
    "            y_valid = np.concatenate((y_valid2, y_valid1), axis=0)\n",
    "            y_test = np.concatenate((y_test2, y_test1), axis=0)    \n",
    "            filenames_valid = np.concatenate((filenames_valid2, filenames_valid1), axis=0)\n",
    "            filenames_test = np.concatenate((filenames_test2, filenames_test1), axis=0)  "
   ]
  },
  {
   "cell_type": "code",
   "execution_count": 11,
   "id": "00601b0f",
   "metadata": {},
   "outputs": [],
   "source": [
    "train_dataset = anomalyDetectionB5(images=X_train,labels = y_train, transform=get_training_augmentation())\n",
    "valid_dataset = anomalyDetectionB5(images=X_valid,labels = y_valid, transform=get_validation_augmentation())\n",
    "test_dataset = anomalyDetectionB5(images=X_test,labels = y_test, transform=get_validation_augmentation())\n",
    "\n",
    "train_loader = DataLoader(\n",
    "    train_dataset, batch_size=params[\"batch_size\"], shuffle=True, num_workers=params[\"num_workers\"], pin_memory=True,\n",
    ")\n",
    "val_loader = DataLoader(\n",
    "    valid_dataset, batch_size=1, shuffle=False , num_workers=params[\"num_workers\"], pin_memory=True,\n",
    ")\n",
    "test_loader = DataLoader(\n",
    "    test_dataset, batch_size=1, shuffle=False , num_workers=params[\"num_workers\"], pin_memory=True,\n",
    ")\n",
    "device = torch.device(params[\"device\"])\n"
   ]
  },
  {
   "cell_type": "code",
   "execution_count": 12,
   "id": "b7b74748",
   "metadata": {},
   "outputs": [
    {
     "name": "stdout",
     "output_type": "stream",
     "text": [
      "bestmodelpath earlyStop/vqvae/checkpoints_earlystop_188.pt\n",
      "bestmodelpath earlyStop/AR/checkpoints_earlystop_284.pt\n"
     ]
    },
    {
     "data": {
      "text/plain": [
       "<All keys matched successfully>"
      ]
     },
     "execution_count": 12,
     "metadata": {},
     "output_type": "execute_result"
    }
   ],
   "source": [
    "saveroot = 'earlyStop'\n",
    "\n",
    "\n",
    "feat_ext_mdl = nets_LV.VQVAE(1,n_channels=(16,32,64,128),code_size=128,n_res_block=2, dropout_p=.1)\n",
    "device= \"cuda\"\n",
    "feat_ext_mdl.to(device)\n",
    "\n",
    "bestmodelpath = os.path.join(saveroot, 'vqvae',\n",
    "                             natsort.natsorted(os.listdir(os.path.join(saveroot, 'vqvae')))[-1])\n",
    "# restore_path = os.path.join(saveroot, 'best_model',\n",
    "#                             natsort.natsorted(os.listdir(os.path.join(saveroot, 'best_model')))[-1]) + '/' + \\\n",
    "#                os.listdir(bestmodelpath)[0]\n",
    "\n",
    "print('bestmodelpath',bestmodelpath)\n",
    "feat_ext_mdl.load_state_dict(\n",
    "    torch.load(bestmodelpath)['model']\n",
    ")\n",
    "    \n",
    "    \n",
    "# chpt = torch.load('saved_model/vqvae_200.pt')\n",
    "# feat_ext_mdl.load_state_dict(chpt['model'])\n",
    "\n",
    "\n",
    "model = nets_LV.VQLatentSNAIL(feature_extractor_model=feat_ext_mdl,\n",
    "                              shape=(64,64), n_block = 4, n_res_block = 4, n_channels = 128)\n",
    "model.to(device)\n",
    "# chpt = torch.load('saved_model/AR_300.pt')\n",
    "# model.load_state_dict(chpt['model'])\n",
    "\n",
    "bestmodelpath = os.path.join(saveroot, 'AR',\n",
    "                             natsort.natsorted(os.listdir(os.path.join(saveroot, 'AR')))[-1])\n",
    "# restore_path = os.path.join(saveroot, 'best_model',\n",
    "#                             natsort.natsorted(os.listdir(os.path.join(saveroot, 'best_model')))[-1]) + '/' + \\\n",
    "#                os.listdir(bestmodelpath)[0]\n",
    "\n",
    "print('bestmodelpath',bestmodelpath)\n",
    "model.load_state_dict(\n",
    "    torch.load(bestmodelpath)['model']\n",
    ")\n"
   ]
  },
  {
   "cell_type": "code",
   "execution_count": 13,
   "id": "81557b67",
   "metadata": {},
   "outputs": [],
   "source": [
    "def evaluate_vqvae(net,dataloader,device,nb_forward=15):\n",
    "    net.eval()\n",
    "    losses = torch.empty((0,64,64))\n",
    "    probs_list = []\n",
    "    # iterate over the validation set\n",
    "    # for batch in tqdm(dataloader, total=num_val_batches, desc='Validation round', unit='batch', leave=False):\n",
    "    pbar = tqdm(enumerate(BackgroundGenerator(dataloader)), total=len(dataloader))\n",
    "    for itr, (test_images, test_annotations) in pbar:\n",
    "        x = test_images\n",
    "        # move images and labels to correct device and type\n",
    "        x = x.to(device=device, dtype=torch.float32)\n",
    "\n",
    "        # iterate over the forward passes\n",
    "#         for f_pass in range(nb_forward):\n",
    "        with torch.no_grad():\n",
    "            # predict the mask (pytorch tensor have the following structure : [batch_no, class, pixel_x, pixel_y])\n",
    "#             codes = net.retrieve_codes(x)\n",
    "#             logits = model.forward_latent(codes)\n",
    "            # take probability\n",
    "#             probs = F.softmax(logits, dim=1)\n",
    "#             loss1 = F.cross_entropy(logits, codes, reduction='none')\n",
    "#             probs = F.softmax(loss1, dim=1)\n",
    "            result = net.loss(x, reduction='none')\n",
    "            loss = result['loss']\n",
    "            probs = F.softmax(loss, dim=1)\n",
    "            losses = torch.cat((losses,loss.cpu()),dim=0)\n",
    "              # upscale loss\n",
    "            up_scl = 8\n",
    "            upscale_loss = np.kron(loss.cpu().numpy()[0], np.ones((up_scl,up_scl)))\n",
    "            probs_list.append(upscale_loss)\n",
    "#                 plt.imshow(result['x_tilde'].cpu().numpy()[0][0])\n",
    "#                 plt.show()\n",
    "#                 cv2.imwrite(os.path.join(test_results_visulaize, cubename[0]),mask_pred_softmax[0,1].cpu().detach().numpy()*255)\n",
    "    return np.array(probs_list)\n",
    "\n",
    "\n"
   ]
  },
  {
   "cell_type": "code",
   "execution_count": 14,
   "id": "b16841fd",
   "metadata": {},
   "outputs": [
    {
     "name": "stderr",
     "output_type": "stream",
     "text": [
      "100%|██████████| 145/145 [00:16<00:00,  8.74it/s]\n"
     ]
    }
   ],
   "source": [
    "losses = evaluate_vqvae(model,val_loader,device,nb_forward=15)"
   ]
  },
  {
   "cell_type": "code",
   "execution_count": 15,
   "id": "b669da78",
   "metadata": {},
   "outputs": [],
   "source": [
    "perces = []\n",
    "perces.append(np.percentile(losses, 99))\n",
    "perces.append(np.percentile(losses, 98))\n",
    "perces.append(np.percentile(losses, 97))\n",
    "perces.append(np.percentile(losses, 96))\n",
    "perces.append(np.percentile(losses, 95))\n",
    "perces.append(np.percentile(losses, 94))\n",
    "perces.append(np.percentile(losses, 93))\n",
    "perces.append(np.percentile(losses, 92))\n",
    "perces.append(np.percentile(losses, 91))\n",
    "perces.append(np.percentile(losses, 90))\n",
    "perces.append(np.percentile(losses, 89))\n",
    "perces.append(np.percentile(losses, 88))\n"
   ]
  },
  {
   "cell_type": "code",
   "execution_count": 16,
   "id": "21bf2e2d",
   "metadata": {},
   "outputs": [
    {
     "data": {
      "text/plain": [
       "[7.2206950187683105,\n",
       " 6.6641740798950195,\n",
       " 6.340746879577637,\n",
       " 6.110380172729492,\n",
       " 5.932365393638527,\n",
       " 5.787481307983398,\n",
       " 5.665168762207031,\n",
       " 5.558424949645996,\n",
       " 5.464435577392578,\n",
       " 5.382349061965964,\n",
       " 5.306325912475586,\n",
       " 5.236539840698242]"
      ]
     },
     "execution_count": 16,
     "metadata": {},
     "output_type": "execute_result"
    }
   ],
   "source": [
    "perces"
   ]
  },
  {
   "cell_type": "code",
   "execution_count": 17,
   "id": "1e824a1b",
   "metadata": {},
   "outputs": [],
   "source": [
    "def roc_auc_img(gt, score):\n",
    "    img_roc_auc = roc_auc_score(gt, score)\n",
    "    \n",
    "    return img_roc_auc\n",
    "\n",
    "\n",
    "def cal_img_roc(scores, gt_list):\n",
    "    img_scores = scores.reshape(scores.shape[0], -1)\n",
    "#     img_scores = scores.reshape(scores.shape[0], -1).sum(axis=1)\n",
    "#     print(img_scores)\n",
    "    gt_list = np.asarray(gt_list)\n",
    "    fpr, tpr, _ = roc_curve(gt_list, img_scores)\n",
    "    img_roc_auc = roc_auc_img(gt_list, img_scores)\n",
    "\n",
    "    return fpr, tpr, img_roc_auc"
   ]
  },
  {
   "cell_type": "code",
   "execution_count": 18,
   "id": "788008b3",
   "metadata": {},
   "outputs": [
    {
     "data": {
      "image/png": "[encoded data removed]",
      "text/plain": [
       "<Figure size 432x288 with 1 Axes>"
      ]
     },
     "metadata": {
      "needs_background": "light"
     },
     "output_type": "display_data"
    },
    {
     "name": "stdout",
     "output_type": "stream",
     "text": [
      "5.5\n",
      "0.945054945054945\n"
     ]
    }
   ],
   "source": [
    "\n",
    "\n",
    "from sklearn import metrics\n",
    "with torch.no_grad():\n",
    "#     codes = model.retrieve_codes(x/255)\n",
    "#     loss = model.loss(x/255, reduction='none')['loss']\n",
    "    \n",
    "    mood_test = []\n",
    "    label_test = []\n",
    "    for img, label in val_loader:\n",
    "        mood_test.append(img)\n",
    "        label_test.append(label.item())\n",
    "    \n",
    "    label_test = np.array(label_test)\n",
    "    \n",
    "# for thresh in perces:    \n",
    "thresh = 5.5\n",
    "pred = []\n",
    "all_pred_tensor_val = torch.empty((0, 1), dtype=torch.float32).to('cuda')\n",
    "model.eval()\n",
    "for X in mood_test:\n",
    "    x_img = X.to(device).float()\n",
    "    with torch.no_grad():\n",
    "        codes = model.retrieve_codes(x_img).flatten(1)\n",
    "        loss = model.loss(x_img, reduction='none')['loss'].flatten(1)\n",
    "        score1 = torch.sum(loss*(loss>thresh),1).float()\n",
    "        score1 = score1.unsqueeze(1)\n",
    "#         score1 = torch.softmax(score1)\n",
    "        all_pred_tensor_val = torch.cat((all_pred_tensor_val, score1), 0)\n",
    "# pred = np.concatenate(pred,1).reshape(-1,1)\n",
    "\n",
    "y_valid_2 = np.where(y_valid > 0, 1, 0)\n",
    "\n",
    "fpr, tpr, img_roc_auc = cal_img_roc(all_pred_tensor_val.cpu(), y_valid_2)\n",
    "plt.plot(fpr, tpr, label='Healthy vs others (area = {0:0.2f})'\n",
    "                                       ''.format(img_roc_auc))\n",
    "plt.plot([0, 1], [0, 1], 'k--')\n",
    "plt.xlim([0.0, 1.0])\n",
    "plt.ylim([0.0, 1.05])\n",
    "plt.xlabel('False Positive Rate')\n",
    "plt.ylabel('True Positive Rate')\n",
    "# label ='AVG ROC = {0:0.2f}'''.format(totl_roc/3)\n",
    "plt.title('VQVAE - ROC VAL Results')\n",
    "plt.legend(loc=\"lower right\")\n",
    "plt.show()\n",
    "print(thresh)\n",
    "print(img_roc_auc)"
   ]
  },
  {
   "cell_type": "code",
   "execution_count": 20,
   "id": "85a0fe78",
   "metadata": {},
   "outputs": [
    {
     "data": {
      "image/png": "[encoded data removed]",
      "text/plain": [
       "<Figure size 432x288 with 1 Axes>"
      ]
     },
     "metadata": {
      "needs_background": "light"
     },
     "output_type": "display_data"
    },
    {
     "name": "stdout",
     "output_type": "stream",
     "text": [
      "5.5\n",
      "0.8799382716049383\n"
     ]
    }
   ],
   "source": [
    "\n",
    "\n",
    "from sklearn import metrics\n",
    "with torch.no_grad():\n",
    "#     codes = model.retrieve_codes(x/255)\n",
    "#     loss = model.loss(x/255, reduction='none')['loss']\n",
    "    \n",
    "    mood_test = []\n",
    "    label_test = []\n",
    "    for img, label in test_loader:\n",
    "        mood_test.append(img)\n",
    "        label_test.append(label.item())\n",
    "    \n",
    "    label_test = np.array(label_test)\n",
    "    \n",
    "# for thresh in perces:    \n",
    "thresh = 5.5\n",
    "pred = []\n",
    "all_pred_tensor_test = torch.empty((0, 1), dtype=torch.float32).to('cuda')\n",
    "model.eval()\n",
    "for X in mood_test:\n",
    "    x_img = X.to(device).float()\n",
    "    with torch.no_grad():\n",
    "        codes = model.retrieve_codes(x_img).flatten(1)\n",
    "        loss = model.loss(x_img, reduction='none')['loss'].flatten(1)\n",
    "        score1 = torch.sum(loss*(loss>thresh),1).float()\n",
    "        score1 = score1.unsqueeze(1)\n",
    "#         score1 = torch.softmax(score1)\n",
    "        all_pred_tensor_test = torch.cat((all_pred_tensor_test, score1), 0)\n",
    "# pred = np.concatenate(pred,1).reshape(-1,1)\n",
    "\n",
    "\n",
    "y_test_2 = np.where(y_test > 0, 1, 0)\n",
    "\n",
    "fpr_vq, tpr_vq, img_roc_auc_vq = cal_img_roc(all_pred_tensor_test.cpu(), y_test_2)\n",
    "plt.plot(fpr_vq, tpr_vq, label='Healthy vs others (area = {0:0.2f})'\n",
    "                                       ''.format(img_roc_auc_vq))\n",
    "plt.plot([0, 1], [0, 1], 'k--')\n",
    "plt.xlim([0.0, 1.0])\n",
    "plt.ylim([0.0, 1.05])\n",
    "plt.xlabel('False Positive Rate')\n",
    "plt.ylabel('True Positive Rate')\n",
    "# label ='AVG ROC = {0:0.2f}'''.format(totl_roc/3)\n",
    "plt.title('VQVAE - ROC VAL Results')\n",
    "plt.legend(loc=\"lower right\")\n",
    "plt.show()\n",
    "print(thresh)\n",
    "print(img_roc_auc)"
   ]
  },
  {
   "cell_type": "code",
   "execution_count": 49,
   "id": "21a3cae3",
   "metadata": {},
   "outputs": [],
   "source": [
    "\n",
    "\n",
    "# np.save('pred_vqvae_drac.npy',all_pred_tensor_test.cpu())\n",
    "# np.save('y_test_2_VQVAE.npy',y_test_2)"
   ]
  },
  {
   "cell_type": "markdown",
   "id": "8944d407",
   "metadata": {},
   "source": [
    "### uncertainty"
   ]
  },
  {
   "cell_type": "code",
   "execution_count": 21,
   "id": "be857194",
   "metadata": {},
   "outputs": [],
   "source": [
    "def enable_dropout(model):\n",
    "    \"\"\" Function to enable the dropout layers during test-time \"\"\"\n",
    "    for m in model.modules():\n",
    "        if m.__class__.__name__.startswith('Dropout'):\n",
    "            m.train()\n",
    "            #logging.info(\"activated dropout\")\n",
    "\n"
   ]
  },
  {
   "cell_type": "code",
   "execution_count": 27,
   "id": "24bda1d2",
   "metadata": {},
   "outputs": [],
   "source": [
    "def evaluate_uncertainty(net,\n",
    "                        dataloader,\n",
    "                        device,\n",
    "                        nb_forward):\n",
    "    net.eval()\n",
    "    uncertaities = []\n",
    "    #Activate the dropout layers\n",
    "    enable_dropout(net)\n",
    "#     test_results = os.path.join(opt.saveroot, 'test_results_drac_all')\n",
    "#     test_results_visulaize = os.path.join(opt.saveroot, 'drac_output_all')\n",
    "    #Define the bash number\n",
    "    num_val_batches = len(dataloader)\n",
    "\n",
    "    #Initialization of scores\n",
    "    dice_score = 0\n",
    "    n_classes = 2\n",
    "    accuracy_score = 0\n",
    "    accuracy_per_class = 0\n",
    "    F1_coeff_per_class  = 0\n",
    "    IOU_coeff = 0 \n",
    "    IOU_coeff_per_class = 0\n",
    "    cf_matrix = np.zeros(shape = (n_classes,n_classes))\n",
    "    pa = 0\n",
    "    pu = 0\n",
    "    pavpu = 0\n",
    "\n",
    "    # iterate over the validation set\n",
    "    # for batch in tqdm(dataloader, total=num_val_batches, desc='Validation round', unit='batch', leave=False):\n",
    "    pbar = tqdm(enumerate(BackgroundGenerator(dataloader)), total=len(dataloader))\n",
    "    for itr, (test_images, label) in pbar:\n",
    "        image = test_images.unsqueeze(1)\n",
    "        # move images and labels to correct device and type\n",
    "        image = image.to(device=device, dtype=torch.float32)\n",
    "        dropout_predictions = torch.empty((0,1,2,512, 512))\n",
    "        # iterate over the forward passes\n",
    "        for f_pass in range(nb_forward):\n",
    "            with torch.no_grad():\n",
    "                # predict the mask (pytorch tensor have the following structure : [batch_no, class, pixel_x, pixel_y])\n",
    "                mask_pred = net(image)\n",
    "                mask_pred_softmax = mask_pred.cpu().softmax(dim=1)\n",
    "#                 cv2.imwrite(os.path.join(test_results_visulaize, cubename[0]),mask_pred_softmax[0,1].cpu().detach().numpy()*255)\n",
    "                # concatenate prediction to the other made on the same batch\n",
    "                dropout_predictions = torch.cat((dropout_predictions,mask_pred.cpu().softmax(dim=1).unsqueeze(dim=0)),dim=0)\n",
    "\n",
    "                # # compute confidence matrix\n",
    "                # cf_matrix = cf_matrix + confusion_matrix(mask_true.argmax(dim=1).view(-1).cpu(),mask_pred.argmax(dim=1).view(-1).cpu(), labels = np.arange(0,n_classes))\n",
    "        #Compute uncertainty indicateurs\n",
    "        batch_mean = dropout_predictions.mean(dim=0)\n",
    "#         str=cubename[0].split('.')[0]+'.npy'\n",
    "        batch_std = dropout_predictions.std(dim=0)\n",
    "        batch_pred_entropy = -torch.sum(batch_mean*batch_mean.log(),dim=1)\n",
    "        batch_mutual_info = batch_pred_entropy+torch.mean(torch.sum(dropout_predictions*dropout_predictions.log(),dim=-3),dim=0)\n",
    "        # cv2.imwrite(os.path.join(test_results, cubename[0]),batch_mutual_info[0,:,:].cpu().detach().numpy()*255)\n",
    "#         np.save(os.path.join(test_results, str), batch_mutual_info[0,:,:].cpu().detach().numpy())\n",
    "        uncertaities.append(batch_mutual_info[0,:,:].cpu().detach().numpy())\n",
    "    \n",
    "    uncertaities_np = np.array(uncertaities)\n",
    "    return uncertaities_np\n",
    "\n"
   ]
  },
  {
   "cell_type": "code",
   "execution_count": 45,
   "id": "36ea049e",
   "metadata": {},
   "outputs": [
    {
     "data": {
      "text/plain": [
       "UNet(\n",
       "  (conv1): unetConv2(\n",
       "    (conv1): Sequential(\n",
       "      (0): Conv2d(1, 128, kernel_size=(3, 3), stride=(1, 1), padding=(1, 1))\n",
       "      (1): BatchNorm2d(128, eps=1e-05, momentum=0.1, affine=True, track_running_stats=True)\n",
       "      (2): ReLU(inplace=True)\n",
       "      (3): Dropout2d(p=0.1, inplace=False)\n",
       "    )\n",
       "    (conv2): Sequential(\n",
       "      (0): Conv2d(128, 128, kernel_size=(3, 3), stride=(1, 1), padding=(1, 1))\n",
       "      (1): BatchNorm2d(128, eps=1e-05, momentum=0.1, affine=True, track_running_stats=True)\n",
       "      (2): ReLU(inplace=True)\n",
       "      (3): Dropout2d(p=0.1, inplace=False)\n",
       "    )\n",
       "    (conv3): Sequential(\n",
       "      (0): Conv2d(128, 128, kernel_size=(3, 3), stride=(1, 1), padding=(1, 1))\n",
       "      (1): BatchNorm2d(128, eps=1e-05, momentum=0.1, affine=True, track_running_stats=True)\n",
       "      (2): ReLU(inplace=True)\n",
       "      (3): Dropout2d(p=0.1, inplace=False)\n",
       "    )\n",
       "  )\n",
       "  (maxpool1): MaxPool2d(kernel_size=2, stride=2, padding=0, dilation=1, ceil_mode=False)\n",
       "  (conv2): unetConv2(\n",
       "    (conv1): Sequential(\n",
       "      (0): Conv2d(128, 128, kernel_size=(3, 3), stride=(1, 1), padding=(1, 1))\n",
       "      (1): BatchNorm2d(128, eps=1e-05, momentum=0.1, affine=True, track_running_stats=True)\n",
       "      (2): ReLU(inplace=True)\n",
       "      (3): Dropout2d(p=0.1, inplace=False)\n",
       "    )\n",
       "    (conv2): Sequential(\n",
       "      (0): Conv2d(128, 128, kernel_size=(3, 3), stride=(1, 1), padding=(1, 1))\n",
       "      (1): BatchNorm2d(128, eps=1e-05, momentum=0.1, affine=True, track_running_stats=True)\n",
       "      (2): ReLU(inplace=True)\n",
       "      (3): Dropout2d(p=0.1, inplace=False)\n",
       "    )\n",
       "    (conv3): Sequential(\n",
       "      (0): Conv2d(128, 128, kernel_size=(3, 3), stride=(1, 1), padding=(1, 1))\n",
       "      (1): BatchNorm2d(128, eps=1e-05, momentum=0.1, affine=True, track_running_stats=True)\n",
       "      (2): ReLU(inplace=True)\n",
       "      (3): Dropout2d(p=0.1, inplace=False)\n",
       "    )\n",
       "  )\n",
       "  (maxpool2): MaxPool2d(kernel_size=2, stride=2, padding=0, dilation=1, ceil_mode=False)\n",
       "  (conv3): unetConv2(\n",
       "    (conv1): Sequential(\n",
       "      (0): Conv2d(128, 128, kernel_size=(3, 3), stride=(1, 1), padding=(1, 1))\n",
       "      (1): BatchNorm2d(128, eps=1e-05, momentum=0.1, affine=True, track_running_stats=True)\n",
       "      (2): ReLU(inplace=True)\n",
       "      (3): Dropout2d(p=0.1, inplace=False)\n",
       "    )\n",
       "    (conv2): Sequential(\n",
       "      (0): Conv2d(128, 128, kernel_size=(3, 3), stride=(1, 1), padding=(1, 1))\n",
       "      (1): BatchNorm2d(128, eps=1e-05, momentum=0.1, affine=True, track_running_stats=True)\n",
       "      (2): ReLU(inplace=True)\n",
       "      (3): Dropout2d(p=0.1, inplace=False)\n",
       "    )\n",
       "    (conv3): Sequential(\n",
       "      (0): Conv2d(128, 128, kernel_size=(3, 3), stride=(1, 1), padding=(1, 1))\n",
       "      (1): BatchNorm2d(128, eps=1e-05, momentum=0.1, affine=True, track_running_stats=True)\n",
       "      (2): ReLU(inplace=True)\n",
       "      (3): Dropout2d(p=0.1, inplace=False)\n",
       "    )\n",
       "  )\n",
       "  (maxpool3): MaxPool2d(kernel_size=2, stride=2, padding=0, dilation=1, ceil_mode=False)\n",
       "  (conv4): unetConv2(\n",
       "    (conv1): Sequential(\n",
       "      (0): Conv2d(128, 128, kernel_size=(3, 3), stride=(1, 1), padding=(1, 1))\n",
       "      (1): BatchNorm2d(128, eps=1e-05, momentum=0.1, affine=True, track_running_stats=True)\n",
       "      (2): ReLU(inplace=True)\n",
       "      (3): Dropout2d(p=0.1, inplace=False)\n",
       "    )\n",
       "    (conv2): Sequential(\n",
       "      (0): Conv2d(128, 128, kernel_size=(3, 3), stride=(1, 1), padding=(1, 1))\n",
       "      (1): BatchNorm2d(128, eps=1e-05, momentum=0.1, affine=True, track_running_stats=True)\n",
       "      (2): ReLU(inplace=True)\n",
       "      (3): Dropout2d(p=0.1, inplace=False)\n",
       "    )\n",
       "    (conv3): Sequential(\n",
       "      (0): Conv2d(128, 128, kernel_size=(3, 3), stride=(1, 1), padding=(1, 1))\n",
       "      (1): BatchNorm2d(128, eps=1e-05, momentum=0.1, affine=True, track_running_stats=True)\n",
       "      (2): ReLU(inplace=True)\n",
       "      (3): Dropout2d(p=0.1, inplace=False)\n",
       "    )\n",
       "  )\n",
       "  (maxpool4): MaxPool2d(kernel_size=2, stride=2, padding=0, dilation=1, ceil_mode=False)\n",
       "  (center): unetConv2(\n",
       "    (conv1): Sequential(\n",
       "      (0): Conv2d(128, 128, kernel_size=(3, 3), stride=(1, 1), padding=(1, 1))\n",
       "      (1): BatchNorm2d(128, eps=1e-05, momentum=0.1, affine=True, track_running_stats=True)\n",
       "      (2): ReLU(inplace=True)\n",
       "      (3): Dropout2d(p=0.1, inplace=False)\n",
       "    )\n",
       "    (conv2): Sequential(\n",
       "      (0): Conv2d(128, 128, kernel_size=(3, 3), stride=(1, 1), padding=(1, 1))\n",
       "      (1): BatchNorm2d(128, eps=1e-05, momentum=0.1, affine=True, track_running_stats=True)\n",
       "      (2): ReLU(inplace=True)\n",
       "      (3): Dropout2d(p=0.1, inplace=False)\n",
       "    )\n",
       "    (conv3): Sequential(\n",
       "      (0): Conv2d(128, 128, kernel_size=(3, 3), stride=(1, 1), padding=(1, 1))\n",
       "      (1): BatchNorm2d(128, eps=1e-05, momentum=0.1, affine=True, track_running_stats=True)\n",
       "      (2): ReLU(inplace=True)\n",
       "      (3): Dropout2d(p=0.1, inplace=False)\n",
       "    )\n",
       "  )\n",
       "  (up_concat4): unetUp(\n",
       "    (conv): unetConv2(\n",
       "      (conv1): Sequential(\n",
       "        (0): Conv2d(256, 128, kernel_size=(3, 3), stride=(1, 1), padding=(1, 1))\n",
       "        (1): ReLU(inplace=True)\n",
       "        (2): Dropout2d(p=0.1, inplace=False)\n",
       "      )\n",
       "      (conv2): Sequential(\n",
       "        (0): Conv2d(128, 128, kernel_size=(3, 3), stride=(1, 1), padding=(1, 1))\n",
       "        (1): ReLU(inplace=True)\n",
       "        (2): Dropout2d(p=0.1, inplace=False)\n",
       "      )\n",
       "      (conv3): Sequential(\n",
       "        (0): Conv2d(128, 128, kernel_size=(3, 3), stride=(1, 1), padding=(1, 1))\n",
       "        (1): ReLU(inplace=True)\n",
       "        (2): Dropout2d(p=0.1, inplace=False)\n",
       "      )\n",
       "    )\n",
       "    (up): ConvTranspose2d(128, 128, kernel_size=(4, 4), stride=(2, 2), padding=(1, 1))\n",
       "  )\n",
       "  (up_concat3): unetUp(\n",
       "    (conv): unetConv2(\n",
       "      (conv1): Sequential(\n",
       "        (0): Conv2d(256, 128, kernel_size=(3, 3), stride=(1, 1), padding=(1, 1))\n",
       "        (1): ReLU(inplace=True)\n",
       "        (2): Dropout2d(p=0.1, inplace=False)\n",
       "      )\n",
       "      (conv2): Sequential(\n",
       "        (0): Conv2d(128, 128, kernel_size=(3, 3), stride=(1, 1), padding=(1, 1))\n",
       "        (1): ReLU(inplace=True)\n",
       "        (2): Dropout2d(p=0.1, inplace=False)\n",
       "      )\n",
       "      (conv3): Sequential(\n",
       "        (0): Conv2d(128, 128, kernel_size=(3, 3), stride=(1, 1), padding=(1, 1))\n",
       "        (1): ReLU(inplace=True)\n",
       "        (2): Dropout2d(p=0.1, inplace=False)\n",
       "      )\n",
       "    )\n",
       "    (up): ConvTranspose2d(128, 128, kernel_size=(4, 4), stride=(2, 2), padding=(1, 1))\n",
       "  )\n",
       "  (up_concat2): unetUp(\n",
       "    (conv): unetConv2(\n",
       "      (conv1): Sequential(\n",
       "        (0): Conv2d(256, 128, kernel_size=(3, 3), stride=(1, 1), padding=(1, 1))\n",
       "        (1): ReLU(inplace=True)\n",
       "        (2): Dropout2d(p=0.1, inplace=False)\n",
       "      )\n",
       "      (conv2): Sequential(\n",
       "        (0): Conv2d(128, 128, kernel_size=(3, 3), stride=(1, 1), padding=(1, 1))\n",
       "        (1): ReLU(inplace=True)\n",
       "        (2): Dropout2d(p=0.1, inplace=False)\n",
       "      )\n",
       "      (conv3): Sequential(\n",
       "        (0): Conv2d(128, 128, kernel_size=(3, 3), stride=(1, 1), padding=(1, 1))\n",
       "        (1): ReLU(inplace=True)\n",
       "        (2): Dropout2d(p=0.1, inplace=False)\n",
       "      )\n",
       "    )\n",
       "    (up): ConvTranspose2d(128, 128, kernel_size=(4, 4), stride=(2, 2), padding=(1, 1))\n",
       "  )\n",
       "  (up_concat1): unetUp(\n",
       "    (conv): unetConv2(\n",
       "      (conv1): Sequential(\n",
       "        (0): Conv2d(256, 128, kernel_size=(3, 3), stride=(1, 1), padding=(1, 1))\n",
       "        (1): ReLU(inplace=True)\n",
       "        (2): Dropout2d(p=0.1, inplace=False)\n",
       "      )\n",
       "      (conv2): Sequential(\n",
       "        (0): Conv2d(128, 128, kernel_size=(3, 3), stride=(1, 1), padding=(1, 1))\n",
       "        (1): ReLU(inplace=True)\n",
       "        (2): Dropout2d(p=0.1, inplace=False)\n",
       "      )\n",
       "      (conv3): Sequential(\n",
       "        (0): Conv2d(128, 128, kernel_size=(3, 3), stride=(1, 1), padding=(1, 1))\n",
       "        (1): ReLU(inplace=True)\n",
       "        (2): Dropout2d(p=0.1, inplace=False)\n",
       "      )\n",
       "    )\n",
       "    (up): ConvTranspose2d(128, 128, kernel_size=(4, 4), stride=(2, 2), padding=(1, 1))\n",
       "  )\n",
       "  (outconv1): Conv2d(128, 2, kernel_size=(3, 3), stride=(1, 1), padding=(1, 1))\n",
       ")"
      ]
     },
     "execution_count": 45,
     "metadata": {},
     "output_type": "execute_result"
    }
   ],
   "source": [
    "from models.unet import UNet\n",
    "from options.test_options import TestOptions\n",
    "\n",
    "\n",
    "\n",
    "net= UNet(in_channels=1, n_classes=2, channels=128);\n",
    "\n",
    "saveroot = 'logs'\n",
    "bestmodelpath = os.path.join(saveroot, 'best_model_drac',\n",
    "                                 natsort.natsorted(os.listdir(os.path.join(saveroot, 'best_model_drac')))[-1])\n",
    "restore_path = os.path.join(saveroot, 'best_model_drac',\n",
    "                            natsort.natsorted(os.listdir(os.path.join(saveroot, 'best_model_drac')))[-1]) + '/' + \\\n",
    "               os.listdir(bestmodelpath)[0]\n",
    "net.load_state_dict(\n",
    "    torch.load(restore_path, map_location=device)\n",
    ")\n",
    "#input the model into GPU\n",
    "net.to(device=device)"
   ]
  },
  {
   "cell_type": "code",
   "execution_count": 46,
   "id": "6018187c",
   "metadata": {},
   "outputs": [
    {
     "name": "stderr",
     "output_type": "stream",
     "text": [
      "100%|██████████| 145/145 [13:33<00:00,  5.61s/it]\n"
     ]
    }
   ],
   "source": [
    "uncertaities_np_valid = evaluate_uncertainty(net,val_loader,device, nb_forward=50)"
   ]
  },
  {
   "cell_type": "code",
   "execution_count": 47,
   "id": "981f8d6d",
   "metadata": {},
   "outputs": [
    {
     "name": "stderr",
     "output_type": "stream",
     "text": [
      "100%|██████████| 147/147 [15:04<00:00,  6.15s/it]\n"
     ]
    }
   ],
   "source": [
    "uncertaities_np_test = evaluate_uncertainty(net,test_loader,device, nb_forward=50)"
   ]
  },
  {
   "cell_type": "code",
   "execution_count": 54,
   "id": "e3ab2140",
   "metadata": {},
   "outputs": [],
   "source": [
    "perces2 = []\n",
    "perces2.append(np.percentile(uncertaities_np_test, 99.93))\n",
    "perces2.append(np.percentile(uncertaities_np_test, 99.5))\n",
    "perces2.append(np.percentile(uncertaities_np_test, 99))\n",
    "perces2.append(np.percentile(uncertaities_np_test, 98))\n",
    "perces2.append(np.percentile(uncertaities_np_test, 97))\n",
    "perces2.append(np.percentile(uncertaities_np_test, 96))\n",
    "perces2.append(np.percentile(uncertaities_np_test, 95))"
   ]
  },
  {
   "cell_type": "code",
   "execution_count": 55,
   "id": "7761b2d6",
   "metadata": {},
   "outputs": [
    {
     "data": {
      "text/plain": [
       "[0.20112192454636446,\n",
       " 0.1445378212630748,\n",
       " 0.12608333349227863,\n",
       " 0.1077097451686857,\n",
       " 0.09645402431488037,\n",
       " 0.08791828155517578,\n",
       " 0.0807600565254688]"
      ]
     },
     "execution_count": 55,
     "metadata": {},
     "output_type": "execute_result"
    }
   ],
   "source": [
    "perces2"
   ]
  },
  {
   "cell_type": "code",
   "execution_count": 42,
   "id": "ff1b87c4",
   "metadata": {},
   "outputs": [],
   "source": [
    "total_val = (uncertaities_np_valid*(uncertaities_np_valid > 0.11)).sum(axis = (1,2))"
   ]
  },
  {
   "cell_type": "code",
   "execution_count": 43,
   "id": "f18b4de6",
   "metadata": {},
   "outputs": [],
   "source": [
    "total_test = (uncertaities_np_test*(uncertaities_np_test > 0.11)).sum(axis = (1,2))"
   ]
  },
  {
   "cell_type": "code",
   "execution_count": 57,
   "id": "6b7ea52c",
   "metadata": {},
   "outputs": [
    {
     "data": {
      "image/png": "[encoded data removed]",
      "text/plain": [
       "<Figure size 432x288 with 1 Axes>"
      ]
     },
     "metadata": {
      "needs_background": "light"
     },
     "output_type": "display_data"
    },
    {
     "name": "stdout",
     "output_type": "stream",
     "text": [
      "0.0807600565254688\n",
      "0.8799382716049383\n"
     ]
    }
   ],
   "source": [
    "\n",
    "\n",
    "from sklearn import metrics\n",
    "#     codes = model.retrieve_codes(x/255)\n",
    "#     loss = model.loss(x/255, reduction='none')['loss']\n",
    "    \n",
    "mood_test = []\n",
    "label_test2 = []\n",
    "for img, label in test_loader:\n",
    "    mood_test.append(img)\n",
    "    label_test2.append(label.item())\n",
    "\n",
    "label_test2 = np.array(label_test)\n",
    "    \n",
    "\n",
    "y_test_22 = np.where(label_test2 > 0, 1, 0)\n",
    "# for thresh in perces2:\n",
    "total_test = (uncertaities_np_test*(uncertaities_np_test > 0.14)).sum(axis = (1,2))\n",
    "fpr_un, tpr_un, img_roc_auc_un = cal_img_roc(total_test, y_test_22)\n",
    "plt.plot(fpr_un, tpr_un, label='Healthy vs others (area = {0:0.2f})'\n",
    "                                       ''.format(img_roc_auc_un))\n",
    "plt.plot([0, 1], [0, 1], 'k--')\n",
    "plt.xlim([0.0, 1.0])\n",
    "plt.ylim([0.0, 1.05])\n",
    "plt.xlabel('False Positive Rate')\n",
    "plt.ylabel('True Positive Rate')\n",
    "# label ='AVG ROC = {0:0.2f}'''.format(totl_roc/3)\n",
    "plt.title('VQVAE - ROC VAL Results')\n",
    "plt.legend(loc=\"lower right\")\n",
    "plt.show()\n",
    "print(thresh)\n",
    "print(img_roc_auc)"
   ]
  },
  {
   "cell_type": "code",
   "execution_count": null,
   "id": "f6a9d6a6",
   "metadata": {},
   "outputs": [],
   "source": []
  },
  {
   "cell_type": "markdown",
   "id": "f2256f21",
   "metadata": {},
   "source": [
    "### CFA"
   ]
  },
  {
   "cell_type": "code",
   "execution_count": 58,
   "id": "9a5103c4",
   "metadata": {},
   "outputs": [],
   "source": [
    "all_scores = np.load('all_scores_cfa.npy')\n",
    "all_gts = np.load('all_gts_cfa.npy')"
   ]
  },
  {
   "cell_type": "code",
   "execution_count": 61,
   "id": "01b33c8f",
   "metadata": {},
   "outputs": [
    {
     "data": {
      "text/plain": [
       "<matplotlib.legend.Legend at 0x7f9f5c6ba9d0>"
      ]
     },
     "execution_count": 61,
     "metadata": {},
     "output_type": "execute_result"
    },
    {
     "data": {
      "image/png": "[encoded data removed]",
      "text/plain": [
       "<Figure size 432x288 with 1 Axes>"
      ]
     },
     "metadata": {
      "needs_background": "light"
     },
     "output_type": "display_data"
    }
   ],
   "source": [
    "fpr_cfa, tpr_cfa, img_roc_auc_cfa = cal_img_roc(all_scores.reshape(all_scores.shape[0], -1).sum(axis=1), all_gts)\n",
    "plt.plot(fpr_cfa, tpr_cfa, label='Healthy vs others (area = {0:0.2f})'\n",
    "                                       ''.format(img_roc_auc_cfa))\n",
    "plt.plot([0, 1], [0, 1], 'k--')\n",
    "plt.xlim([0.0, 1.0])\n",
    "plt.ylim([0.0, 1.05])\n",
    "plt.xlabel('False Positive Rate')\n",
    "plt.ylabel('True Positive Rate')\n",
    "# label ='AVG ROC = {0:0.2f}'''.format(totl_roc/3)\n",
    "plt.title('CFA - ROC Test Results')\n",
    "plt.legend(loc=\"lower right\")"
   ]
  },
  {
   "cell_type": "code",
   "execution_count": 63,
   "id": "fafa4ad9",
   "metadata": {},
   "outputs": [
    {
     "data": {
      "image/png": "[encoded data removed]",
      "text/plain": [
       "<Figure size 432x288 with 1 Axes>"
      ]
     },
     "metadata": {
      "needs_background": "light"
     },
     "output_type": "display_data"
    }
   ],
   "source": [
    "fpr_un, tpr_un, img_roc_auc_un = cal_img_roc(total_test, y_test_22)\n",
    "plt.plot(fpr_un, tpr_un, label='Uncertainty (area = {0:0.2f})'\n",
    "                                       ''.format(img_roc_auc_un))\n",
    "fpr_vq, tpr_vq, img_roc_auc_vq = cal_img_roc(all_pred_tensor_test.cpu(), y_test_2)\n",
    "plt.plot(fpr_vq, tpr_vq, label='VQVAE (area = {0:0.2f})'\n",
    "                                       ''.format(img_roc_auc_vq))\n",
    "\n",
    "fpr_vq, tpr_vq, img_roc_auc_vq = cal_img_roc(all_scores.reshape(all_scores.shape[0], -1).sum(axis=1), all_gts)\n",
    "plt.plot(fpr_vq, tpr_vq, label='CFA (area = {0:0.2f})'\n",
    "                                       ''.format(img_roc_auc_vq))\n",
    "plt.plot([0, 1], [0, 1], 'k--')\n",
    "plt.xlim([0.0, 1.0])\n",
    "plt.ylim([0.0, 1.05])\n",
    "plt.xlabel('False Positive Rate')\n",
    "plt.ylabel('True Positive Rate')\n",
    "# label ='AVG ROC = {0:0.2f}'''.format(totl_roc/3)\n",
    "plt.title('DRAC Test ROC Results')\n",
    "plt.legend(loc=\"lower right\")\n",
    "plt.show()"
   ]
  },
  {
   "cell_type": "code",
   "execution_count": null,
   "id": "f38c9d95",
   "metadata": {},
   "outputs": [],
   "source": []
  }
 ],
 "metadata": {
  "kernelspec": {
   "display_name": "Python 3 (ipykernel)",
   "language": "python",
   "name": "python3"
  },
  "language_info": {
   "codemirror_mode": {
    "name": "ipython",
    "version": 3
   },
   "file_extension": ".py",
   "mimetype": "text/x-python",
   "name": "python",
   "nbconvert_exporter": "python",
   "pygments_lexer": "ipython3",
   "version": "3.8.10"
  }
 },
 "nbformat": 4,
 "nbformat_minor": 5
}
